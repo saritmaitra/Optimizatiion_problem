{
  "nbformat": 4,
  "nbformat_minor": 0,
  "metadata": {
    "colab": {
      "name": "Linear Programming",
      "provenance": [],
      "authorship_tag": "ABX9TyOGlp3vSHrps6IxWhW2Rpae",
      "include_colab_link": true
    },
    "kernelspec": {
      "name": "python3",
      "display_name": "Python 3"
    }
  },
  "cells": [
    {
      "cell_type": "markdown",
      "metadata": {
        "id": "view-in-github",
        "colab_type": "text"
      },
      "source": [
        "<a href=\"https://colab.research.google.com/github/saritmaitra/Optimizatiion_problem/blob/main/Linear_Programming.ipynb\" target=\"_parent\"><img src=\"https://colab.research.google.com/assets/colab-badge.svg\" alt=\"Open In Colab\"/></a>"
      ]
    },
    {
      "cell_type": "markdown",
      "metadata": {
        "id": "FgIq1Gck8oZD"
      },
      "source": [
        "##### **Prepared by Dr. Sarit Maitra on behalf of Dr. B. C. Roy Polytechnic(A Unit of Dr. B. C. Roy Engineering College, Durgapur)**"
      ]
    },
    {
      "cell_type": "code",
      "metadata": {
        "id": "liZE1hi5yMEF"
      },
      "source": [
        "!pip install pulp\n",
        "import pulp\n",
        "from pulp import *"
      ],
      "execution_count": null,
      "outputs": []
    },
    {
      "cell_type": "markdown",
      "metadata": {
        "id": "8C_QqFZ91giD"
      },
      "source": [
        "## ***Business case & problem statement***\n",
        "\n",
        "### ***Use case 1***\n",
        "\n",
        "A bakery makes cakes and pies every day of a month. There is: 1 oven, 2 bakers, 1 packaging packer that works only 22 days of the month. \n",
        "\n",
        "- The cake requires to use the oven for 1 day and the pie requires 0.5 day. \n",
        "- Each baker needs to work for cake 0.5 days and pie 2 days. \n",
        "- Packer needs to work for cake 1 day and pie 0.5 days. \n",
        "\n",
        "The profit on each cake is 15 dollar and the profit on each pie is 12 dollar. \n",
        "\n",
        "How many should be made to maximize the profit under given conditions?"
      ]
    },
    {
      "cell_type": "code",
      "metadata": {
        "id": "l78NSrYkyovT",
        "colab": {
          "base_uri": "https://localhost:8080/",
          "height": 101
        },
        "outputId": "404722ba-5509-44ae-a2de-84079b9f97cb"
      },
      "source": [
        "# initializing model with objective function 'maximize'\n",
        "model = LpProblem('Maximize_Profits', sense= LpMaximize)\n",
        "\n",
        "# defining decision variables\n",
        "C = LpVariable('C', lowBound=0, upBound=None, cat='Integer')\n",
        "P = LpVariable('P', lowBound=0, upBound=None, cat='Integer')\n",
        "\n",
        "# we define a name for the variable, values for lower and upper bound, and category type ‘Integer’. \n",
        "\n",
        "model += 15 * C + 12 * P # defining objective function\n",
        "\n",
        "#defining constraints\n",
        "model += 1 * C + 0.5 * P <= 30\n",
        "model += 0.5 * C + 2 * P <= 60\n",
        "model += 1 * C + 0.5 * P <= 22\n",
        "\n",
        "# solving the problem\n",
        "print(model.solve())\n",
        "\n",
        "#Print model status\n",
        "print('Status:', LpStatus[model.status]) # Check the status of the solution \n",
        "\n",
        "#Print solution variables\n",
        "for variable in model.variables():\n",
        "    print ('{} = {}'.format(variable.name, variable.varValue))\n",
        "\n",
        "print('Optimal number:', value(model.objective)) # print optimized objective function\n"
      ],
      "execution_count": null,
      "outputs": [
        {
          "output_type": "stream",
          "text": [
            "1\n",
            "Status: Optimal\n",
            "C = 8.0\n",
            "P = 28.0\n",
            "Optimal number: 456.0\n"
          ],
          "name": "stdout"
        }
      ]
    },
    {
      "cell_type": "markdown",
      "metadata": {
        "id": "2XygQGsw2jia"
      },
      "source": [
        "**Solution: Bakery needs to produce 456 numbers of cake / month to maximize profit.**\n",
        "\n",
        "\n",
        "### ***Use Case 2***\n",
        "A factory is looking to hire workers, with the requirements to work 5 consecutive days and then 2 days off.\n",
        "\n",
        "The objective is to hire the minimum number of workers and the estimated number of worker needed for each day is:\n",
        "- Monday: 25,\n",
        "- Tuesday: 32,\n",
        "- Wednesday: 22,\n",
        "- Thursday: 18,\n",
        "- Friday: 24,\n",
        "- Saturday: 12,\n",
        "- Sunday: 14.\n",
        "\n",
        "What would be the minimum number of workers to hire?"
      ]
    },
    {
      "cell_type": "code",
      "metadata": {
        "id": "BOFDADhZ0rLl"
      },
      "source": [
        "# Mon --> X0 + X3 + X4 + X5 + X6 = 25\n",
        "# Tue --> X0 + X1+ X4 + X5 + X6 = 32\n",
        "# Wed --> X0 + X1 + X2 + X5 + X6 = 22\n",
        "# Thu --> X0 + X1 + X2 + X3 + X6 = 18\n",
        "# Fri --> X0 + X1 + X2 + X3 + X4 = 24\n",
        "# Sat --> X1 + X2 + X3 + X4 + X5 = 12\n",
        "# Sun --> X2 + X3 + X4 + X5 + X6 = 14"
      ],
      "execution_count": null,
      "outputs": []
    },
    {
      "cell_type": "code",
      "metadata": {
        "id": "B_RWhdkY3UZs",
        "colab": {
          "base_uri": "https://localhost:8080/",
          "height": 151
        },
        "outputId": "199551c6-0ea1-48ca-f758-3515d79f0f43"
      },
      "source": [
        "#Initialize model\n",
        "model = LpProblem(\"Minimize_Number_of_Workers\", LpMinimize)\n",
        "\n",
        "#Define decision variables\n",
        "days = list(range(7))\n",
        "x = LpVariable.dicts('workers_', days, lowBound=0, upBound=None, cat='Integer')\n",
        "\n",
        "#Define model\n",
        "model += lpSum([x[i] for i in days])\n",
        "\n",
        "# Define constraints\n",
        "model += x[0] + x[3] + x[4] + x[5] + x[6] >= 25\n",
        "model += x[0] + x[1] + x[4] + x[5] + x[6] >= 32\n",
        "model += x[0] + x[1] + x[2] + x[5] + x[6] >= 22\n",
        "model += x[0] + x[1] + x[2] + x[3] + x[6] >= 18\n",
        "model += x[0] + x[1] + x[2] + x[3] + x[4] >= 24\n",
        "model += x[1] + x[2] + x[3] + x[4] + x[5] >= 12\n",
        "model += x[2] + x[3] + x[4] + x[5] + x[6] >= 14\n",
        "\n",
        "# Solve model\n",
        "model.solve()\n",
        "\n",
        "#Print model status\n",
        "print('Status:', LpStatus[model.status])\n",
        "\n",
        "#Print solution variables\n",
        "for variable in model.variables():\n",
        "    print ('{} = {}'.format(variable.name, variable.varValue))"
      ],
      "execution_count": null,
      "outputs": [
        {
          "output_type": "stream",
          "text": [
            "Status: Optimal\n",
            "workers__0 = 7.0\n",
            "workers__1 = 7.0\n",
            "workers__2 = 0.0\n",
            "workers__3 = 0.0\n",
            "workers__4 = 10.0\n",
            "workers__5 = 0.0\n",
            "workers__6 = 8.0\n"
          ],
          "name": "stdout"
        }
      ]
    },
    {
      "cell_type": "markdown",
      "metadata": {
        "id": "X7c_2p9T48Jn"
      },
      "source": [
        "**Soution: Factory needs to hire 32 workers in total, 7 of them start working on Monday, the other 7 on Tuesday, 10 on Friday, and 8 on Sunday.**"
      ]
    }
  ]
}