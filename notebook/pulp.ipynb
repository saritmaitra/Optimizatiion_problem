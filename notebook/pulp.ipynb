{
  "nbformat": 4,
  "nbformat_minor": 0,
  "metadata": {
    "colab": {
      "name": "pulp.ipynb",
      "provenance": [],
      "authorship_tag": "ABX9TyPI87TqNLQN+bq7eeK1UDys",
      "include_colab_link": true
    },
    "kernelspec": {
      "name": "python3",
      "display_name": "Python 3"
    },
    "accelerator": "GPU"
  },
  "cells": [
    {
      "cell_type": "markdown",
      "metadata": {
        "id": "view-in-github",
        "colab_type": "text"
      },
      "source": [
        "<a href=\"https://colab.research.google.com/github/saritmaitra/Optimizatiion_problem/blob/main/pulp.ipynb\" target=\"_parent\"><img src=\"https://colab.research.google.com/assets/colab-badge.svg\" alt=\"Open In Colab\"/></a>"
      ]
    },
    {
      "cell_type": "code",
      "metadata": {
        "id": "ip106kdRuUMO"
      },
      "source": [
        "!pip install pyforest\n",
        "from pyforest import *\n",
        "from scipy.optimize import minimize, LinearConstraint\n",
        "import matplotlib.pyplot as plt\n",
        "%matplotlib inline  \n",
        "from pandas.plotting import register_matplotlib_converters\n",
        "register_matplotlib_converters()\n",
        "import math\n",
        "from numpy import arange\n",
        "plt.style.use('ggplot')\n",
        "from matplotlib.pyplot import *\n",
        "! pip install pulp\n",
        "import pulp\n",
        "from pulp import *"
      ],
      "execution_count": null,
      "outputs": []
    },
    {
      "cell_type": "markdown",
      "metadata": {
        "id": "502Z-VBjVVsE"
      },
      "source": [
        "A car company produces 2 models, model A and model B. Long-term projections indicate an expected demand of at least 100 model A cars and 80 model B cars each day. Because of limitations on production capacity, no more than 200 model A cars and 170 model B cars can be made daily. To satisfy a transportation contract, a total of at least 200 cars much be transported each day. If each model A car sold results in a dollar 2000 loss, but each model B car produces a dollar 5000  profit, how many of each type should be made daily to maximize net profits?"
      ]
    },
    {
      "cell_type": "code",
      "metadata": {
        "id": "HW8m7CUs9R_N"
      },
      "source": [
        "#car models - A & B\n",
        "\n",
        "#demand: A >= 100 ; B >= 80\n",
        "\n",
        "#produce: A <= 200 ; B <= 170\n",
        "\n",
        "#So, we can conclude that: 200 >= A >= 100 and 170 >= B >= 80\n",
        "\n",
        "#transportation: A + B >= 200\n",
        "\n",
        "#objective function: ( z = 5000B - 2000A )"
      ],
      "execution_count": null,
      "outputs": []
    },
    {
      "cell_type": "markdown",
      "metadata": {
        "id": "2sLbvuFKZJcN"
      },
      "source": [
        "### visualization of the problem"
      ]
    },
    {
      "cell_type": "markdown",
      "metadata": {
        "id": "XhDgyp8_b9I5"
      },
      "source": [
        "A car company produces 2 models, model A and model B. Long-term projections indicate an expected demand of at least 100 model A cars and 80 model B cars each day. Because of limitations on production capacity, no more than 200 model A cars and 170 model B cars can be made daily. To satisfy a transportation contract, a total of at least 200 cars much be transported each day. If each model A car sold results in a dollar 2000 loss, but each model B car produces a dollar 5000 profit, how many of each type should be made daily to maximize net profits?"
      ]
    },
    {
      "cell_type": "code",
      "metadata": {
        "id": "6R-9F13D9m6u",
        "colab": {
          "base_uri": "https://localhost:8080/",
          "height": 319
        },
        "outputId": "059ddd74-6a11-4e0d-e018-2782cbf4c2bc"
      },
      "source": [
        "# create the LP object, set up as a maximization problem\n",
        "prob = LpProblem('Car_Production_Problem', LpMaximize)\n",
        "\n",
        "# Setting up decision variables:\n",
        "A = LpVariable(\"A\", lowBound = 100, upBound = 200, cat='Integer')   # 100 <= A <= 200\n",
        "B = LpVariable(\"B\", lowBound = 80, upBound = 170, cat='Integer') # 80 <= B <= 170\n",
        "\n",
        "# Now we add in the objective function:\n",
        "\n",
        "# considering each model A car sold results in a dollar 2000 loss, but each model B car produces a dollar 5000 profit\n",
        "profit = 5000*B - 2000*A  \n",
        "prob += profit  # here's where we actually add it to the obj function\n",
        "\n",
        "# Now the constraints:\n",
        "prob += A >= 100 # expected demand of at least 100 model A cars\n",
        "prob += B >= 80 # expected demand of at least 80 model B cars\n",
        "prob += A + B >= 200 # total of at least 200 cars much be transported each day\n",
        "prob += A <= 200 # no more than 200 model A cars\n",
        "prob += B <= 170 # no more than 170 model A cars\n",
        "\n",
        "# Let's print out the problem and make sure we have everything:\n",
        "print(prob)"
      ],
      "execution_count": null,
      "outputs": [
        {
          "output_type": "stream",
          "text": [
            "Car_Production_Problem:\n",
            "MAXIMIZE\n",
            "-2000*A + 5000*B + 0\n",
            "SUBJECT TO\n",
            "_C1: A >= 100\n",
            "\n",
            "_C2: B >= 80\n",
            "\n",
            "_C3: A + B >= 200\n",
            "\n",
            "_C4: A <= 200\n",
            "\n",
            "_C5: B <= 170\n",
            "\n",
            "VARIABLES\n",
            "100 <= A <= 200 Integer\n",
            "80 <= B <= 170 Integer\n",
            "\n"
          ],
          "name": "stdout"
        }
      ]
    },
    {
      "cell_type": "markdown",
      "metadata": {
        "id": "Mnr6wBknK_fT"
      },
      "source": [
        "As we can see the objective function is 2×1 + 3×2, as documented in the initial mathematical problem statement in scalar syntax. The constraints are marked with _C1 and _C2. They too are consistent with the mathematical problem statement at the beginning of this post. Furthermore, it is correct that x1 and x2 are continuous and not discrete optimization variables."
      ]
    },
    {
      "cell_type": "code",
      "metadata": {
        "id": "BGKnulh494S9",
        "colab": {
          "base_uri": "https://localhost:8080/",
          "height": 202
        },
        "outputId": "572ab4e1-c2d4-48f9-92f2-dc43bf719766"
      },
      "source": [
        "# now we solve the Linear Programming\n",
        "optimization_result = prob.solve()\n",
        "\n",
        "# make sure we got an optimal solution\n",
        "assert optimization_result == LpStatusOptimal\n",
        "\n",
        "print ('\\nPrinting the Results: \\n')\n",
        "print('printing status of the LP problem: ', LpStatus[optimization_result])\n",
        " \n",
        "# print the results A = 100, B = 170\n",
        "print('Maximum Profit Gained: $', profit)\n",
        "print('\\n Number of Model A Cars: ',value(A))\n",
        "print('\\n Number of Model B Cars: ',value(B))\n",
        "print('\\nOptimal solution (profit maximization): $', value(prob.objective))"
      ],
      "execution_count": null,
      "outputs": [
        {
          "output_type": "stream",
          "text": [
            "\n",
            "Printing the Results: \n",
            "\n",
            "printing status of the LP problem:  Optimal\n",
            "Maximum Profit Gained: $ -2000*A + 5000*B\n",
            "\n",
            " Number of Model A Cars:  100.0\n",
            "\n",
            " Number of Model B Cars:  170.0\n",
            "\n",
            "Optimal solution (profit maximization): $ 650000.0\n"
          ],
          "name": "stdout"
        }
      ]
    },
    {
      "cell_type": "markdown",
      "metadata": {
        "id": "4VR1sYqylAfu"
      },
      "source": [
        "### Checking the answer\n",
        "We can also visualize this problem and verify that the answer we have come up with makes sense."
      ]
    },
    {
      "cell_type": "code",
      "metadata": {
        "id": "1fB3iWQ49cpZ",
        "colab": {
          "base_uri": "https://localhost:8080/",
          "height": 408
        },
        "outputId": "82b2aab7-f39a-4bf9-a25d-fa67078ad0a3"
      },
      "source": [
        "plt.figure(figsize = (10,6))\n",
        "A = arange(-100, 220, 10)\n",
        "B = arange(-100, 220, 10)\n",
        "\n",
        "# constraint equation\n",
        "B1 = 200.0 - A\n",
        "\n",
        "xlim = (-100, 220)\n",
        "ylim= (-100, 220)\n",
        "hlines(0, -100, 220, color = 'k')\n",
        "vlines(0, -100, 220, color = 'k')\n",
        "grid(True)\n",
        "\n",
        "plt.xlabel('X-axis')\n",
        "plt.ylabel('Y-axis')\n",
        "\n",
        "#Plotting graph\n",
        "plot(A, B1, color = 'b')\n",
        "axhline(y = 80, color = 'r')\n",
        "axhline(y = 170, color = 'm')\n",
        "axvline(x = 200, color = 'b')\n",
        "axvline(x = 100, color = 'g')\n",
        "\n",
        "plt.title('objective function: f(n) = 5000B - 2000A with following constarints')\n",
        "plt.legend(['A+B>=200','200>=A>=100','170>=B>=80'])\n",
        "\n",
        "# get the co-ordinates of intersection points by mere visualisation\n",
        "A = [200.0,100.0, 100.0, 120.0,200.0]\n",
        "B = [170.0, 170.0, 100.0, 80.0, 80.0]\n",
        "fill(A,B,'y')\n",
        "plt.show()\n",
        "\n"
      ],
      "execution_count": null,
      "outputs": [
        {
          "output_type": "display_data",
          "data": {
            "image/png": "[encoded data removed]",
            "text/plain": [
              "<Figure size 720x432 with 1 Axes>"
            ]
          },
          "metadata": {
            "tags": []
          }
        }
      ]
    },
    {
      "cell_type": "markdown",
      "metadata": {
        "id": "DKimIl2sZQtI"
      },
      "source": [
        "The highlighted area shows the set of decisions about A and B which satisfy all of the constraints — this is the feasible region. "
      ]
    },
    {
      "cell_type": "code",
      "metadata": {
        "id": "BQt6B_Yw7foJ",
        "colab": {
          "base_uri": "https://localhost:8080/",
          "height": 302
        },
        "outputId": "543a4026-8665-4a8a-bd64-0ac13a52f111"
      },
      "source": [
        "#Getting Solution\n",
        "checker = 0\n",
        "for i,j in zip(A,B):\n",
        "    print('\\n calculating for point: A = {0:f} and B = {1:f}' .format(i,j))\n",
        "    print('solution for f(n) = ', 5000*j-2000*i)\n",
        "    if(checker <= (5000*j-2000*i)):\n",
        "       checker = (5000*j-2000*i)\n",
        "       X,Y = i,j\n",
        "\n",
        "print('\\n the maximum profit f(n) = ${0:f} @ A = {1:f} and B = {2:f}' .format(checker,X,Y))"
      ],
      "execution_count": null,
      "outputs": [
        {
          "output_type": "stream",
          "text": [
            "\n",
            " calculating for point: A = 200.000000 and B = 170.000000\n",
            "solution for f(n) =  450000.0\n",
            "\n",
            " calculating for point: A = 100.000000 and B = 170.000000\n",
            "solution for f(n) =  650000.0\n",
            "\n",
            " calculating for point: A = 100.000000 and B = 100.000000\n",
            "solution for f(n) =  300000.0\n",
            "\n",
            " calculating for point: A = 120.000000 and B = 80.000000\n",
            "solution for f(n) =  160000.0\n",
            "\n",
            " calculating for point: A = 200.000000 and B = 80.000000\n",
            "solution for f(n) =  0.0\n",
            "\n",
            " the maximum profit f(n) = $650000.000000 @ A = 100.000000 and B = 170.000000\n"
          ],
          "name": "stdout"
        }
      ]
    }
  ]
}
