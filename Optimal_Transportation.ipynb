{
  "nbformat": 4,
  "nbformat_minor": 0,
  "metadata": {
    "colab": {
      "name": "Optimal_Transportation.ipynb",
      "provenance": [],
      "authorship_tag": "ABX9TyNq3uAAWNqFlf7Ic6TMVxl/",
      "include_colab_link": true
    },
    "kernelspec": {
      "name": "python3",
      "display_name": "Python 3"
    }
  },
  "cells": [
    {
      "cell_type": "markdown",
      "metadata": {
        "id": "view-in-github",
        "colab_type": "text"
      },
      "source": [
        "<a href=\"https://colab.research.google.com/github/saritmaitra/Optimizatiion_problem/blob/main/Optimal_Transportation.ipynb\" target=\"_parent\"><img src=\"https://colab.research.google.com/assets/colab-badge.svg\" alt=\"Open In Colab\"/></a>"
      ]
    },
    {
      "cell_type": "markdown",
      "metadata": {
        "id": "H3jEvp9wqP56"
      },
      "source": [
        "# Optimal solution\r\n",
        "## Total transportation cost:\r\n",
        "\r\n",
        "             \r\n",
        "                 \r\n",
        "            To ->    DP1    DP2    DP3     DP4    Supply(capacity)\r\n",
        "           From\r\n",
        "            SP1 -> 1       30    50     80      60      250\r\n",
        "            SP2 -> 2      90    70    100      90     1100\r\n",
        "            SP3 -> 3      20   120     50     180      800\r\n",
        "        \r\n",
        "         Demand      500   300    700     650     2150\r\n",
        "        (requirement)\r\n",
        "\r\n",
        "\r\n"
      ]
    },
    {
      "cell_type": "code",
      "metadata": {
        "colab": {
          "base_uri": "https://localhost:8080/"
        },
        "id": "0Qy-jwt6vAzN",
        "outputId": "247c8151-9146-469d-e955-db8cff22eac4"
      },
      "source": [
        "!pip install pulp\r\n",
        "from pulp import *"
      ],
      "execution_count": 2,
      "outputs": [
        {
          "output_type": "stream",
          "text": [
            "Requirement already satisfied: pulp in /usr/local/lib/python3.6/dist-packages (2.4)\n",
            "Requirement already satisfied: amply>=0.1.2 in /usr/local/lib/python3.6/dist-packages (from pulp) (0.1.4)\n",
            "Requirement already satisfied: pyparsing in /usr/local/lib/python3.6/dist-packages (from amply>=0.1.2->pulp) (2.4.7)\n",
            "Requirement already satisfied: docutils>=0.3 in /usr/local/lib/python3.6/dist-packages (from amply>=0.1.2->pulp) (0.16)\n"
          ],
          "name": "stdout"
        }
      ]
    },
    {
      "cell_type": "code",
      "metadata": {
        "id": "VpPgKMcFqObD"
      },
      "source": [
        "# sources and destination list\r\n",
        "sp = 3 # supply points\r\n",
        "dp = 4 # demand points\r\n",
        "\r\n",
        "p = range(1, sp+1)\r\n",
        "p1 = range(sp)\r\n",
        "q = range(1, dp+1)\r\n",
        "q1 = range(dp)\r\n",
        "\r\n",
        "# defining route variable with the relationships with supply and demand points\r\n",
        "routes = [(p[i], q[j]) for i in p1 for j in q1]\r\n",
        "\r\n",
        "# defining problem (model containing data and solve LP)\r\n",
        "# nature of problem: minimize transporat cost\r\n",
        "prob = pulp.LpProblem('Transportation', LpMinimize)\r\n",
        "\r\n",
        "# define decision variable\r\n",
        "x = pulp.LpVariable.dicts(name='TransportationtCost', indexs=routes, lowBound=0, upBound = None)"
      ],
      "execution_count": 3,
      "outputs": []
    },
    {
      "cell_type": "code",
      "metadata": {
        "id": "rrpVYoZP7Tit"
      },
      "source": [
        "# objective function\r\n",
        "prob += 30* x[1,1] + 50* x[1,2] + 80* x[1,3] + 60* x[1,4]\\\r\n",
        "+ 90 *x[2,1] + 70* x[2,2] + 100* x[2,3] + 80* x[2,4] \\\r\n",
        "+ 20* x[3,1] + 120* x[3,2] + 50* x[3,3] + 180* x[3,4], \"Transporation\"\r\n",
        "\r\n",
        "# supply constraints\r\n",
        "prob +=  x[1,1] + x[1,2] + x[1,3] + x[1,4] <= 250, \"SP1\"\r\n",
        "prob += x[2,1] + x[2,2] + x[2,3] + x[2,4] <= 1100, \"SP2\"\r\n",
        "prob += x[3,1] + x[3,2] + x[3,3] + x[3,4] <= 800, \"SP3\"\r\n",
        "\r\n",
        "# demand constrains\r\n",
        "prob += x[1,1] + x[2,1] + x[3,1] >= 500, \"DP1\"\r\n",
        "prob += x[1,2] + x[2,2] + x[3,2] >= 300, \"DP2\"\r\n",
        "prob += x[1,3] + x[2,3] + x[3,3] >= 700, \"DP3\"\r\n",
        "prob += x[1,4] + x[2,4] + x[3,4] >= 650, \"DP4\"\r\n"
      ],
      "execution_count": 4,
      "outputs": []
    },
    {
      "cell_type": "code",
      "metadata": {
        "colab": {
          "base_uri": "https://localhost:8080/"
        },
        "id": "rgJRVybCHCoZ",
        "outputId": "d21bb5a4-7d03-40a6-94d4-e392dce3c3b6"
      },
      "source": [
        "print('Solving balanced problem:')\r\n",
        "print(prob.solve())\r\n",
        "print('Status:', LpStatus[prob.status])\r\n",
        "\r\n",
        "for v in prob.variables():\r\n",
        "  if v.varValue > 0:\r\n",
        "    print(v.name, \"=\", v.varValue)\r\n",
        "# Print our objective function value\r\n",
        "print(\"Total transportation cost is {}\".format(value(prob.objective)))\r\n"
      ],
      "execution_count": 5,
      "outputs": [
        {
          "output_type": "stream",
          "text": [
            "Solving balanced problem:\n",
            "1\n",
            "Status: Optimal\n",
            "TransportationtCost_(1,_1) = 250.0\n",
            "TransportationtCost_(2,_2) = 300.0\n",
            "TransportationtCost_(2,_3) = 150.0\n",
            "TransportationtCost_(2,_4) = 650.0\n",
            "TransportationtCost_(3,_1) = 250.0\n",
            "TransportationtCost_(3,_3) = 550.0\n",
            "Total transportation cost is 128000.0\n"
          ],
          "name": "stdout"
        }
      ]
    },
    {
      "cell_type": "markdown",
      "metadata": {
        "id": "nCydtSgaPuoO"
      },
      "source": [
        "          To ->   D1    D2    D3   D4    D5    Supply(capacity)\r\n",
        "          From\r\n",
        "          S1      30    50   80    60     0      250\r\n",
        "          S2      90    70  100    90     0     1100\r\n",
        "          S3      20   120   50    180    0      800\r\n",
        " \r\n",
        "        Demand    500   600  700    650   250\r\n",
        "     (requirement)"
      ]
    },
    {
      "cell_type": "code",
      "metadata": {
        "id": "SRmdfaVMQOZk"
      },
      "source": [
        "sp = 3 # Supply points\r\n",
        "dp = 5 # Demand points\r\n",
        "p = range(1, sp+1)\r\n",
        "p1 = range(sp)\r\n",
        "q = range(1, dp+1)\r\n",
        "q1 = range(dp)\r\n",
        "# Index list for decision variables x\r\n",
        "routes = [(p[i], q[j]) for i in p1 for j in q1]\r\n",
        "\r\n",
        "prob = pulp.LpProblem(\"Unbalanced_Transport_Problem\", LpMinimize)\r\n",
        "x = pulp.LpVariable.dicts(name='TransportationtCost', indexs=routes, lowBound=0, upBound = None)\r\n",
        "\r\n",
        "prob += 30* x[1,1] + 50* x[1,2] + 80* x[1,3] + 60* x[1,4]\\\r\n",
        "+ 90 *x[2,1] + 70* x[2,2] + 100* x[2,3] + 80* x[2,4] \\\r\n",
        "+ 20* x[3,1] + 120* x[3,2] + 50* x[3,3] + 180* x[3,4], \"Transporation\""
      ],
      "execution_count": 6,
      "outputs": []
    },
    {
      "cell_type": "code",
      "metadata": {
        "id": "kCBlG3KdROqm"
      },
      "source": [
        "# supply \r\n",
        "prob +=  x[1,1] + x[1,2] + x[1,3] + x[1,4] <= 250, \"SP1\"\r\n",
        "prob += x[2,1] + x[2,2] + x[2,3] + x[2,4] <= 1100, \"SP2\"\r\n",
        "prob += x[3,1] + x[3,2] + x[3,3] + x[3,4] <= 800, \"SP3\"\r\n",
        "\r\n",
        "# Demand \r\n",
        "prob += x[1,1] + x[2,1] + x[3,1] >= 500, \"DP1\"\r\n",
        "prob += x[1,2] + x[2,2] + x[3,2] >= 300, \"DP2\"\r\n",
        "prob += x[1,3] + x[2,3] + x[3,3] >= 700, \"DP3\"\r\n",
        "prob += x[1,4] + x[2,4] + x[3,4] >= 650, \"DP4\"\r\n",
        "prob += x[1,5] + x[2,5] + x[3,5] >= 250.0, \"DummyDP\""
      ],
      "execution_count": 7,
      "outputs": []
    },
    {
      "cell_type": "code",
      "metadata": {
        "colab": {
          "base_uri": "https://localhost:8080/"
        },
        "id": "xsd6-yZsSFUU",
        "outputId": "9af9db80-9e77-4624-de97-3c486bbf2716"
      },
      "source": [
        "print('Solving unbalanced problem:')\r\n",
        "prob.solve()\r\n",
        "print (\"Status:\", LpStatus[prob.status])\r\n",
        "for v in prob.variables():\r\n",
        "  if v.varValue >0:\r\n",
        "    print(v.name, \"=\", v.varValue); print()\r\n",
        "\r\n",
        "# Print our objective function value\r\n",
        "print(\"Total transportation cost is {}\".format(value(prob.objective)))"
      ],
      "execution_count": 8,
      "outputs": [
        {
          "output_type": "stream",
          "text": [
            "Solving unbalanced problem:\n",
            "Status: Optimal\n",
            "TransportationtCost_(1,_1) = 250.0\n",
            "\n",
            "TransportationtCost_(1,_5) = 250.0\n",
            "\n",
            "TransportationtCost_(2,_2) = 300.0\n",
            "\n",
            "TransportationtCost_(2,_3) = 150.0\n",
            "\n",
            "TransportationtCost_(2,_4) = 650.0\n",
            "\n",
            "TransportationtCost_(3,_1) = 250.0\n",
            "\n",
            "TransportationtCost_(3,_3) = 550.0\n",
            "\n",
            "Total transportation cost is 128000.0\n"
          ],
          "name": "stdout"
        }
      ]
    }
  ]
}