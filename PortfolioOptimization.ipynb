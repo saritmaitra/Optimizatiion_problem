{
  "nbformat": 4,
  "nbformat_minor": 0,
  "metadata": {
    "colab": {
      "name": "PortfolioOptimization.ipynb",
      "provenance": [],
      "authorship_tag": "ABX9TyNLab1i+l6lKk7Daq2yZNVE",
      "include_colab_link": true
    },
    "kernelspec": {
      "name": "python3",
      "display_name": "Python 3"
    }
  },
  "cells": [
    {
      "cell_type": "markdown",
      "metadata": {
        "id": "view-in-github",
        "colab_type": "text"
      },
      "source": [
        "<a href=\"https://colab.research.google.com/github/saritmaitra/Optimizatiion_problem/blob/main/PortfolioOptimization.ipynb\" target=\"_parent\"><img src=\"https://colab.research.google.com/assets/colab-badge.svg\" alt=\"Open In Colab\"/></a>"
      ]
    },
    {
      "cell_type": "code",
      "metadata": {
        "id": "8EQuvG029msO"
      },
      "source": [
        "import os                               \r\n",
        "import math                             \r\n",
        "import numpy as np                      \r\n",
        "import pandas as pd                     \r\n",
        "import matplotlib.pyplot as plt        \r\n",
        "from matplotlib import cm               \r\n",
        "import scipy                            \r\n",
        "import cvxpy as cp                      \r\n",
        "from mpl_toolkits.mplot3d import Axes3D \r\n",
        "%matplotlib inline\r\n",
        "from google.colab import files"
      ],
      "execution_count": 1,
      "outputs": []
    },
    {
      "cell_type": "code",
      "metadata": {
        "colab": {
          "resources": {
            "http://localhost:8080/nbextensions/google.colab/files.js": {
              "data": "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",
              "ok": true,
              "headers": [
                [
                  "content-type",
                  "application/javascript"
                ]
              ],
              "status": 200,
              "status_text": ""
            }
          },
          "base_uri": "https://localhost:8080/",
          "height": 73
        },
        "id": "YJ2HbAH9-Si9",
        "outputId": "ed234e1e-561f-46d0-df18-df5189f551b1"
      },
      "source": [
        "uploaded = files.upload()"
      ],
      "execution_count": 2,
      "outputs": [
        {
          "output_type": "display_data",
          "data": {
            "text/html": [
              "\n",
              "     <input type=\"file\" id=\"files-932d5df9-5c50-445c-9995-6546eeec2e01\" name=\"files[]\" multiple disabled\n",
              "        style=\"border:none\" />\n",
              "     <output id=\"result-932d5df9-5c50-445c-9995-6546eeec2e01\">\n",
              "      Upload widget is only available when the cell has been executed in the\n",
              "      current browser session. Please rerun this cell to enable.\n",
              "      </output>\n",
              "      <script src=\"/nbextensions/google.colab/files.js\"></script> "
            ],
            "text/plain": [
              "<IPython.core.display.HTML object>"
            ]
          },
          "metadata": {
            "tags": []
          }
        },
        {
          "output_type": "stream",
          "text": [
            "Saving prices.txt to prices (1).txt\n"
          ],
          "name": "stdout"
        }
      ]
    },
    {
      "cell_type": "code",
      "metadata": {
        "colab": {
          "base_uri": "https://localhost:8080/"
        },
        "id": "gPu-hpYu-rsM",
        "outputId": "9201fd08-20fa-4f9e-a29e-0e1b02ca7245"
      },
      "source": [
        "df = pd.read_csv(\"prices.txt\", parse_dates = True, index_col=0)\r\n",
        "df.info()"
      ],
      "execution_count": 3,
      "outputs": [
        {
          "output_type": "stream",
          "text": [
            "<class 'pandas.core.frame.DataFrame'>\n",
            "DatetimeIndex: 2521 entries, 2007-01-02 to 2016-12-06\n",
            "Data columns (total 53 columns):\n",
            " #   Column    Non-Null Count  Dtype  \n",
            "---  ------    --------------  -----  \n",
            " 0   AGG       2521 non-null   float64\n",
            " 1   DBC       2521 non-null   float64\n",
            " 2   DFE       2521 non-null   float64\n",
            " 3   DIA       2521 non-null   float64\n",
            " 4   DXJ       2521 non-null   float64\n",
            " 5   EEM       2521 non-null   float64\n",
            " 6   EFA       2521 non-null   float64\n",
            " 7   EWG       2521 non-null   float64\n",
            " 8   EWH       2521 non-null   float64\n",
            " 9   EWI       2521 non-null   float64\n",
            " 10  EWT       2521 non-null   float64\n",
            " 11  EWU       2521 non-null   float64\n",
            " 12  EWW       2521 non-null   float64\n",
            " 13  EWY       2521 non-null   float64\n",
            " 14  EWZ       2521 non-null   float64\n",
            " 15  EZU       2521 non-null   float64\n",
            " 16  FEZ       2521 non-null   float64\n",
            " 17  FXI       2521 non-null   float64\n",
            " 18  GDX       2521 non-null   float64\n",
            " 19  GLD       2521 non-null   float64\n",
            " 20  IAU       2521 non-null   float64\n",
            " 21  IBB       2521 non-null   float64\n",
            " 22  ITB       2521 non-null   float64\n",
            " 23  IVV       2521 non-null   float64\n",
            " 24  IWD       2521 non-null   float64\n",
            " 25  IWM       2521 non-null   float64\n",
            " 26  IYR       2521 non-null   float64\n",
            " 27  KBE       2521 non-null   float64\n",
            " 28  KRE       2521 non-null   float64\n",
            " 29  LQD       2521 non-null   float64\n",
            " 30  OIL       2521 non-null   float64\n",
            " 31  SDS       2521 non-null   float64\n",
            " 32  SH        2521 non-null   float64\n",
            " 33  SLV       2521 non-null   float64\n",
            " 34  SPY       2521 non-null   float64\n",
            " 35  USO       2521 non-null   float64\n",
            " 36  VGK       2521 non-null   float64\n",
            " 37  VNQ       2521 non-null   float64\n",
            " 38  VTI       2521 non-null   float64\n",
            " 39  VWO       2521 non-null   float64\n",
            " 40  XHB       2521 non-null   float64\n",
            " 41  XLB       2521 non-null   float64\n",
            " 42  XLE       2521 non-null   float64\n",
            " 43  XLF       2521 non-null   float64\n",
            " 44  XLI       2521 non-null   float64\n",
            " 45  XLK       2521 non-null   float64\n",
            " 46  XLP       2521 non-null   float64\n",
            " 47  XLU       2521 non-null   float64\n",
            " 48  XLV       2521 non-null   float64\n",
            " 49  XLY       2521 non-null   float64\n",
            " 50  XME       2521 non-null   float64\n",
            " 51  XOP       2521 non-null   float64\n",
            " 52  USDOLLAR  2521 non-null   float64\n",
            "dtypes: float64(53)\n",
            "memory usage: 1.0 MB\n"
          ],
          "name": "stdout"
        }
      ]
    },
    {
      "cell_type": "markdown",
      "metadata": {
        "id": "LfeEi5duDLVm"
      },
      "source": [
        "It covers 10 years, from January 2006 to December 2016, and comprises a set of 52 popular exchange traded funds (ETFs) and the US central bank (FED) rate of return"
      ]
    },
    {
      "cell_type": "code",
      "metadata": {
        "colab": {
          "base_uri": "https://localhost:8080/"
        },
        "id": "-FfGXIqQ_wkX",
        "outputId": "80bef633-51dd-4f2f-9a37-37faceceabcf"
      },
      "source": [
        "df.shape"
      ],
      "execution_count": 4,
      "outputs": [
        {
          "output_type": "execute_result",
          "data": {
            "text/plain": [
              "(2521, 53)"
            ]
          },
          "metadata": {
            "tags": []
          },
          "execution_count": 4
        }
      ]
    },
    {
      "cell_type": "code",
      "metadata": {
        "colab": {
          "base_uri": "https://localhost:8080/",
          "height": 299
        },
        "id": "vIfMYQSaFGIn",
        "outputId": "3ca4e8d1-1f23-4350-8fb7-d2ed5e3cc251"
      },
      "source": [
        "data = df.reset_index()\r\n",
        "data.rename(columns = {'index': 'date'}, inplace=True)\r\n",
        "data.tail()"
      ],
      "execution_count": 5,
      "outputs": [
        {
          "output_type": "execute_result",
          "data": {
            "text/html": [
              "<div>\n",
              "<style scoped>\n",
              "    .dataframe tbody tr th:only-of-type {\n",
              "        vertical-align: middle;\n",
              "    }\n",
              "\n",
              "    .dataframe tbody tr th {\n",
              "        vertical-align: top;\n",
              "    }\n",
              "\n",
              "    .dataframe thead th {\n",
              "        text-align: right;\n",
              "    }\n",
              "</style>\n",
              "<table border=\"1\" class=\"dataframe\">\n",
              "  <thead>\n",
              "    <tr style=\"text-align: right;\">\n",
              "      <th></th>\n",
              "      <th>date</th>\n",
              "      <th>AGG</th>\n",
              "      <th>DBC</th>\n",
              "      <th>DFE</th>\n",
              "      <th>DIA</th>\n",
              "      <th>DXJ</th>\n",
              "      <th>EEM</th>\n",
              "      <th>EFA</th>\n",
              "      <th>EWG</th>\n",
              "      <th>EWH</th>\n",
              "      <th>EWI</th>\n",
              "      <th>EWT</th>\n",
              "      <th>EWU</th>\n",
              "      <th>EWW</th>\n",
              "      <th>EWY</th>\n",
              "      <th>EWZ</th>\n",
              "      <th>EZU</th>\n",
              "      <th>FEZ</th>\n",
              "      <th>FXI</th>\n",
              "      <th>GDX</th>\n",
              "      <th>GLD</th>\n",
              "      <th>IAU</th>\n",
              "      <th>IBB</th>\n",
              "      <th>ITB</th>\n",
              "      <th>IVV</th>\n",
              "      <th>IWD</th>\n",
              "      <th>IWM</th>\n",
              "      <th>IYR</th>\n",
              "      <th>KBE</th>\n",
              "      <th>KRE</th>\n",
              "      <th>LQD</th>\n",
              "      <th>OIL</th>\n",
              "      <th>SDS</th>\n",
              "      <th>SH</th>\n",
              "      <th>SLV</th>\n",
              "      <th>SPY</th>\n",
              "      <th>USO</th>\n",
              "      <th>VGK</th>\n",
              "      <th>VNQ</th>\n",
              "      <th>VTI</th>\n",
              "      <th>VWO</th>\n",
              "      <th>XHB</th>\n",
              "      <th>XLB</th>\n",
              "      <th>XLE</th>\n",
              "      <th>XLF</th>\n",
              "      <th>XLI</th>\n",
              "      <th>XLK</th>\n",
              "      <th>XLP</th>\n",
              "      <th>XLU</th>\n",
              "      <th>XLV</th>\n",
              "      <th>XLY</th>\n",
              "      <th>XME</th>\n",
              "      <th>XOP</th>\n",
              "      <th>USDOLLAR</th>\n",
              "    </tr>\n",
              "  </thead>\n",
              "  <tbody>\n",
              "    <tr>\n",
              "      <th>2516</th>\n",
              "      <td>2016-11-30</td>\n",
              "      <td>108.24</td>\n",
              "      <td>15.21</td>\n",
              "      <td>52.17</td>\n",
              "      <td>191.40</td>\n",
              "      <td>49.20</td>\n",
              "      <td>35.50</td>\n",
              "      <td>56.79</td>\n",
              "      <td>24.83</td>\n",
              "      <td>21.17</td>\n",
              "      <td>21.75</td>\n",
              "      <td>30.74</td>\n",
              "      <td>30.06</td>\n",
              "      <td>44.12</td>\n",
              "      <td>53.26</td>\n",
              "      <td>33.49</td>\n",
              "      <td>32.78</td>\n",
              "      <td>31.38</td>\n",
              "      <td>37.59</td>\n",
              "      <td>20.83</td>\n",
              "      <td>111.75</td>\n",
              "      <td>11.29</td>\n",
              "      <td>274.07</td>\n",
              "      <td>27.37</td>\n",
              "      <td>221.53</td>\n",
              "      <td>109.91</td>\n",
              "      <td>131.61</td>\n",
              "      <td>74.85</td>\n",
              "      <td>41.15</td>\n",
              "      <td>52.41</td>\n",
              "      <td>116.84</td>\n",
              "      <td>5.82</td>\n",
              "      <td>15.75</td>\n",
              "      <td>37.31</td>\n",
              "      <td>15.66</td>\n",
              "      <td>220.38</td>\n",
              "      <td>10.93</td>\n",
              "      <td>45.91</td>\n",
              "      <td>80.39</td>\n",
              "      <td>113.78</td>\n",
              "      <td>36.22</td>\n",
              "      <td>33.85</td>\n",
              "      <td>49.94</td>\n",
              "      <td>74.43</td>\n",
              "      <td>22.51</td>\n",
              "      <td>62.41</td>\n",
              "      <td>47.50</td>\n",
              "      <td>50.58</td>\n",
              "      <td>46.75</td>\n",
              "      <td>68.75</td>\n",
              "      <td>81.85</td>\n",
              "      <td>31.10</td>\n",
              "      <td>41.93</td>\n",
              "      <td>10682.421</td>\n",
              "    </tr>\n",
              "    <tr>\n",
              "      <th>2517</th>\n",
              "      <td>2016-12-01</td>\n",
              "      <td>107.68</td>\n",
              "      <td>15.49</td>\n",
              "      <td>52.36</td>\n",
              "      <td>191.90</td>\n",
              "      <td>48.61</td>\n",
              "      <td>35.08</td>\n",
              "      <td>56.57</td>\n",
              "      <td>24.68</td>\n",
              "      <td>20.98</td>\n",
              "      <td>21.98</td>\n",
              "      <td>30.41</td>\n",
              "      <td>30.10</td>\n",
              "      <td>43.27</td>\n",
              "      <td>53.46</td>\n",
              "      <td>31.48</td>\n",
              "      <td>32.64</td>\n",
              "      <td>31.31</td>\n",
              "      <td>37.59</td>\n",
              "      <td>20.66</td>\n",
              "      <td>111.54</td>\n",
              "      <td>11.27</td>\n",
              "      <td>269.49</td>\n",
              "      <td>27.01</td>\n",
              "      <td>220.73</td>\n",
              "      <td>110.08</td>\n",
              "      <td>130.97</td>\n",
              "      <td>73.67</td>\n",
              "      <td>41.98</td>\n",
              "      <td>53.46</td>\n",
              "      <td>115.87</td>\n",
              "      <td>6.08</td>\n",
              "      <td>15.87</td>\n",
              "      <td>37.45</td>\n",
              "      <td>15.66</td>\n",
              "      <td>219.57</td>\n",
              "      <td>11.33</td>\n",
              "      <td>45.84</td>\n",
              "      <td>79.21</td>\n",
              "      <td>113.31</td>\n",
              "      <td>35.81</td>\n",
              "      <td>33.53</td>\n",
              "      <td>49.96</td>\n",
              "      <td>74.61</td>\n",
              "      <td>22.90</td>\n",
              "      <td>62.82</td>\n",
              "      <td>46.52</td>\n",
              "      <td>50.25</td>\n",
              "      <td>46.38</td>\n",
              "      <td>68.25</td>\n",
              "      <td>81.89</td>\n",
              "      <td>31.29</td>\n",
              "      <td>42.05</td>\n",
              "      <td>10682.621</td>\n",
              "    </tr>\n",
              "    <tr>\n",
              "      <th>2518</th>\n",
              "      <td>2016-12-02</td>\n",
              "      <td>108.02</td>\n",
              "      <td>15.60</td>\n",
              "      <td>52.28</td>\n",
              "      <td>191.74</td>\n",
              "      <td>48.77</td>\n",
              "      <td>35.12</td>\n",
              "      <td>56.71</td>\n",
              "      <td>24.74</td>\n",
              "      <td>20.74</td>\n",
              "      <td>22.13</td>\n",
              "      <td>30.50</td>\n",
              "      <td>30.35</td>\n",
              "      <td>43.22</td>\n",
              "      <td>53.29</td>\n",
              "      <td>31.68</td>\n",
              "      <td>32.69</td>\n",
              "      <td>31.29</td>\n",
              "      <td>37.31</td>\n",
              "      <td>21.37</td>\n",
              "      <td>112.14</td>\n",
              "      <td>11.32</td>\n",
              "      <td>270.46</td>\n",
              "      <td>27.04</td>\n",
              "      <td>220.91</td>\n",
              "      <td>110.05</td>\n",
              "      <td>130.90</td>\n",
              "      <td>74.45</td>\n",
              "      <td>41.64</td>\n",
              "      <td>53.03</td>\n",
              "      <td>116.40</td>\n",
              "      <td>6.19</td>\n",
              "      <td>15.86</td>\n",
              "      <td>37.43</td>\n",
              "      <td>15.83</td>\n",
              "      <td>219.68</td>\n",
              "      <td>11.48</td>\n",
              "      <td>45.99</td>\n",
              "      <td>80.00</td>\n",
              "      <td>113.31</td>\n",
              "      <td>35.77</td>\n",
              "      <td>33.63</td>\n",
              "      <td>49.98</td>\n",
              "      <td>74.83</td>\n",
              "      <td>22.65</td>\n",
              "      <td>62.81</td>\n",
              "      <td>46.69</td>\n",
              "      <td>50.57</td>\n",
              "      <td>46.80</td>\n",
              "      <td>68.41</td>\n",
              "      <td>81.44</td>\n",
              "      <td>32.06</td>\n",
              "      <td>42.03</td>\n",
              "      <td>10682.826</td>\n",
              "    </tr>\n",
              "    <tr>\n",
              "      <th>2519</th>\n",
              "      <td>2016-12-05</td>\n",
              "      <td>108.11</td>\n",
              "      <td>15.68</td>\n",
              "      <td>53.05</td>\n",
              "      <td>192.22</td>\n",
              "      <td>49.01</td>\n",
              "      <td>35.41</td>\n",
              "      <td>57.27</td>\n",
              "      <td>25.34</td>\n",
              "      <td>20.82</td>\n",
              "      <td>22.31</td>\n",
              "      <td>30.57</td>\n",
              "      <td>30.57</td>\n",
              "      <td>43.70</td>\n",
              "      <td>53.54</td>\n",
              "      <td>32.12</td>\n",
              "      <td>33.41</td>\n",
              "      <td>32.00</td>\n",
              "      <td>37.26</td>\n",
              "      <td>21.33</td>\n",
              "      <td>111.54</td>\n",
              "      <td>11.26</td>\n",
              "      <td>271.93</td>\n",
              "      <td>27.40</td>\n",
              "      <td>222.19</td>\n",
              "      <td>110.66</td>\n",
              "      <td>133.15</td>\n",
              "      <td>75.04</td>\n",
              "      <td>42.16</td>\n",
              "      <td>53.68</td>\n",
              "      <td>116.65</td>\n",
              "      <td>6.11</td>\n",
              "      <td>15.66</td>\n",
              "      <td>37.21</td>\n",
              "      <td>15.88</td>\n",
              "      <td>221.00</td>\n",
              "      <td>11.35</td>\n",
              "      <td>46.68</td>\n",
              "      <td>80.59</td>\n",
              "      <td>114.10</td>\n",
              "      <td>36.01</td>\n",
              "      <td>34.04</td>\n",
              "      <td>50.37</td>\n",
              "      <td>75.49</td>\n",
              "      <td>22.92</td>\n",
              "      <td>62.76</td>\n",
              "      <td>47.14</td>\n",
              "      <td>50.63</td>\n",
              "      <td>46.86</td>\n",
              "      <td>68.29</td>\n",
              "      <td>82.33</td>\n",
              "      <td>33.21</td>\n",
              "      <td>42.45</td>\n",
              "      <td>10683.036</td>\n",
              "    </tr>\n",
              "    <tr>\n",
              "      <th>2520</th>\n",
              "      <td>2016-12-06</td>\n",
              "      <td>108.09</td>\n",
              "      <td>15.61</td>\n",
              "      <td>53.56</td>\n",
              "      <td>192.49</td>\n",
              "      <td>49.36</td>\n",
              "      <td>35.60</td>\n",
              "      <td>57.66</td>\n",
              "      <td>25.56</td>\n",
              "      <td>20.83</td>\n",
              "      <td>23.25</td>\n",
              "      <td>30.90</td>\n",
              "      <td>30.67</td>\n",
              "      <td>44.34</td>\n",
              "      <td>53.79</td>\n",
              "      <td>32.68</td>\n",
              "      <td>33.83</td>\n",
              "      <td>32.52</td>\n",
              "      <td>37.26</td>\n",
              "      <td>21.20</td>\n",
              "      <td>111.43</td>\n",
              "      <td>11.26</td>\n",
              "      <td>274.34</td>\n",
              "      <td>27.86</td>\n",
              "      <td>222.99</td>\n",
              "      <td>111.29</td>\n",
              "      <td>134.59</td>\n",
              "      <td>75.52</td>\n",
              "      <td>42.76</td>\n",
              "      <td>54.50</td>\n",
              "      <td>116.64</td>\n",
              "      <td>6.06</td>\n",
              "      <td>15.55</td>\n",
              "      <td>37.10</td>\n",
              "      <td>15.85</td>\n",
              "      <td>221.70</td>\n",
              "      <td>11.29</td>\n",
              "      <td>47.11</td>\n",
              "      <td>81.11</td>\n",
              "      <td>114.68</td>\n",
              "      <td>36.16</td>\n",
              "      <td>34.37</td>\n",
              "      <td>50.43</td>\n",
              "      <td>75.35</td>\n",
              "      <td>23.12</td>\n",
              "      <td>62.88</td>\n",
              "      <td>47.28</td>\n",
              "      <td>50.78</td>\n",
              "      <td>46.77</td>\n",
              "      <td>68.48</td>\n",
              "      <td>82.52</td>\n",
              "      <td>33.18</td>\n",
              "      <td>42.70</td>\n",
              "      <td>10683.036</td>\n",
              "    </tr>\n",
              "  </tbody>\n",
              "</table>\n",
              "</div>"
            ],
            "text/plain": [
              "           date     AGG    DBC    DFE  ...    XLY    XME    XOP   USDOLLAR\n",
              "2516 2016-11-30  108.24  15.21  52.17  ...  81.85  31.10  41.93  10682.421\n",
              "2517 2016-12-01  107.68  15.49  52.36  ...  81.89  31.29  42.05  10682.621\n",
              "2518 2016-12-02  108.02  15.60  52.28  ...  81.44  32.06  42.03  10682.826\n",
              "2519 2016-12-05  108.11  15.68  53.05  ...  82.33  33.21  42.45  10683.036\n",
              "2520 2016-12-06  108.09  15.61  53.56  ...  82.52  33.18  42.70  10683.036\n",
              "\n",
              "[5 rows x 54 columns]"
            ]
          },
          "metadata": {
            "tags": []
          },
          "execution_count": 5
        }
      ]
    },
    {
      "cell_type": "markdown",
      "metadata": {
        "id": "eD5QKjrBQAXb"
      },
      "source": [
        "## Optimization\r\n",
        "### Constants, parameters and variables"
      ]
    },
    {
      "cell_type": "code",
      "metadata": {
        "id": "opREnFurDs2e"
      },
      "source": [
        "# last price for each stock\r\n",
        "\r\n",
        "p = data \\\r\n",
        "    .drop(['date'], axis=1) \\\r\n",
        "    .tail(1) \\\r\n",
        "    .to_numpy()"
      ],
      "execution_count": 6,
      "outputs": []
    },
    {
      "cell_type": "code",
      "metadata": {
        "id": "8MLcI2rFEQqO"
      },
      "source": [
        "# weekly returns from 1 January 2016 onwards\r\n",
        "\r\n",
        "r = data[(data['date'].dt.weekday == 4) & (data['date'] >= '2016-01-01')]\r\n",
        "r = r.drop(['date'], 1)\r\n",
        "r = r.pct_change()"
      ],
      "execution_count": 7,
      "outputs": []
    },
    {
      "cell_type": "code",
      "metadata": {
        "id": "3Pg2XJ-PJp5Y"
      },
      "source": [
        "# expected return and covariance matrix\r\n",
        "\r\n",
        "sigma = r.dropna().cov().to_numpy()\r\n",
        "mu = r.dropna().mean().to_numpy()"
      ],
      "execution_count": 8,
      "outputs": []
    },
    {
      "cell_type": "code",
      "metadata": {
        "id": "0KO3ENSIKLth"
      },
      "source": [
        "# optimization variable and parameters\r\n",
        "\r\n",
        "x = cp.Variable(shape = df.shape[1], integer=True)\r\n",
        "threshold = cp.Parameter(nonneg=True) # maximum portfolio variance\r\n",
        "k = cp.Parameter(nonneg=True) # maximum allocation into one stock"
      ],
      "execution_count": 9,
      "outputs": []
    },
    {
      "cell_type": "code",
      "metadata": {
        "id": "J6yxFpaNKQiZ"
      },
      "source": [
        "# portfolio mean and variance\r\n",
        "\r\n",
        "mean = mu.T*x\r\n",
        "variance = cp.quad_form(x, sigma)"
      ],
      "execution_count": 10,
      "outputs": []
    },
    {
      "cell_type": "markdown",
      "metadata": {
        "id": "4K9wHfOKQxkD"
      },
      "source": [
        "## Objective function\r\n",
        "\r\n",
        "Here our objective is to maximize expected portfolio return"
      ]
    },
    {
      "cell_type": "code",
      "metadata": {
        "id": "9PZ_5_ejLZ8J"
      },
      "source": [
        "objective = cp.Maximize(mean)"
      ],
      "execution_count": 11,
      "outputs": []
    },
    {
      "cell_type": "markdown",
      "metadata": {
        "id": "qy82fM0gRBrr"
      },
      "source": [
        "## Constraints"
      ]
    },
    {
      "cell_type": "code",
      "metadata": {
        "id": "a_KfBLolLd_y"
      },
      "source": [
        "# optimisation constraints\r\n",
        "constraints = [x >= 0,                                 # no shorting\r\n",
        "    variance <= threshold                   # upper bound on portfolio variance\r\n",
        "]\r\n",
        "for pi in p:\r\n",
        "    constraints = constraints + [pi*x <= k] # upper bound on single-stock allocation"
      ],
      "execution_count": 12,
      "outputs": []
    },
    {
      "cell_type": "markdown",
      "metadata": {
        "id": "dpim9Xq9RYzS"
      },
      "source": [
        "## Solution\r\n",
        "Initialize the optimization problem using objective function and constraints"
      ]
    },
    {
      "cell_type": "code",
      "metadata": {
        "id": "AdIU5xunLh25"
      },
      "source": [
        "problem = cp.Problem(objective, constraints)"
      ],
      "execution_count": 13,
      "outputs": []
    },
    {
      "cell_type": "markdown",
      "metadata": {
        "id": "8h-jVt_FRf2E"
      },
      "source": [
        "Solve optimization problem for each parameter combination"
      ]
    },
    {
      "cell_type": "code",
      "metadata": {
        "id": "-SN2jfPfLlh0"
      },
      "source": [
        "z_values = []\r\n",
        "k_values = np.arange(1000, 5000, 1000)\r\n",
        "threshold_values = np.arange(1, 5.5, 0.5)\r\n",
        "for threshold_value in threshold_values:\r\n",
        "    for k_value in k_values:\r\n",
        "        threshold.value = threshold_value\r\n",
        "        k.value = k_value\r\n",
        "        problem.solve()\r\n",
        "        if problem.status != 'optimal': continue\r\n",
        "        counts = x.value.round()\r\n",
        "        investments = p*counts\r\n",
        "        returns = mu@investments[0]\r\n",
        "        z_values.append(returns)"
      ],
      "execution_count": 14,
      "outputs": []
    },
    {
      "cell_type": "markdown",
      "metadata": {
        "id": "olgJUq-FRvIs"
      },
      "source": [
        "## Optimal portfolio\r\n",
        "optimal portfolio using highest variance and maximum single-asset allocation"
      ]
    },
    {
      "cell_type": "code",
      "metadata": {
        "colab": {
          "base_uri": "https://localhost:8080/"
        },
        "id": "RG9yLYxsMU-Z",
        "outputId": "287a61ff-abb0-457c-d5c1-d4da5d7506de"
      },
      "source": [
        "stocks_optimal = (df.columns).values[np.where(counts > 0)]\r\n",
        "print('Stocks=>', stocks_optimal); \r\n",
        "counts_optimal = counts[counts > 0]\r\n",
        "print('Counts=>', counts_optimal); \r\n",
        "prices_optimal = np.around(p, 2)[0][np.where(counts > 0)]\r\n",
        "print('Prices=>', prices_optimal); \r\n",
        "investments_optimal = np.around(investments, 2)[investments > 0]\r\n",
        "print('Investments=>', investments_optimal); print()\r\n",
        "capital_optimal = np.around(counts_optimal@prices_optimal, 2)\r\n",
        "print('Capital=>', capital_optimal); \r\n",
        "risk_optimal = np.around(counts.T@sigma@counts, 2)\r\n",
        "print('Risk=>', risk_optimal)\r\n",
        "return_optimal = np.around(52*returns/capital_optimal, 3)\r\n",
        "print('Return=>', return_optimal); print()"
      ],
      "execution_count": 17,
      "outputs": [
        {
          "output_type": "stream",
          "text": [
            "Stocks=> ['DBC' 'EWT' 'GDX' 'KBE' 'SH' 'XLE' 'XLK' 'XME']\n",
            "Counts=> [ 1.  7.  3.  1.  4. 25. 19. 22.]\n",
            "Prices=> [15.61 30.9  21.2  42.76 37.1  75.35 47.28 33.18]\n",
            "Investments=> [  15.61  216.3    63.6    42.76  148.4  1883.75  898.32  729.96]\n",
            "\n",
            "Capital=> 3998.7\n",
            "Risk=> 4.99\n",
            "Return=> 0.519\n",
            "\n"
          ],
          "name": "stdout"
        }
      ]
    },
    {
      "cell_type": "code",
      "metadata": {
        "colab": {
          "base_uri": "https://localhost:8080/",
          "height": 284
        },
        "id": "kscAV28TSKZ8",
        "outputId": "7f51b464-f544-49be-a5d7-050732d5affb"
      },
      "source": [
        "Stocks = pd.DataFrame(stocks_optimal)\r\n",
        "Stocks.rename(columns = {0: 'Stocks_name'}, inplace=True)\r\n",
        "Counts = pd.DataFrame(counts_optimal)\r\n",
        "Counts.rename(columns = {0: 'Counts'}, inplace=True)\r\n",
        "Prices = pd.DataFrame(prices_optimal)\r\n",
        "Prices.rename(columns = {0: 'OptimalPrices'}, inplace=True)\r\n",
        "Investments = pd.DataFrame(investments_optimal)\r\n",
        "Investments.rename(columns = {0: 'OptimalInvestments'}, inplace=True)\r\n",
        "pd.concat([Stocks, Counts, Prices, Investments], 1)"
      ],
      "execution_count": 18,
      "outputs": [
        {
          "output_type": "execute_result",
          "data": {
            "text/html": [
              "<div>\n",
              "<style scoped>\n",
              "    .dataframe tbody tr th:only-of-type {\n",
              "        vertical-align: middle;\n",
              "    }\n",
              "\n",
              "    .dataframe tbody tr th {\n",
              "        vertical-align: top;\n",
              "    }\n",
              "\n",
              "    .dataframe thead th {\n",
              "        text-align: right;\n",
              "    }\n",
              "</style>\n",
              "<table border=\"1\" class=\"dataframe\">\n",
              "  <thead>\n",
              "    <tr style=\"text-align: right;\">\n",
              "      <th></th>\n",
              "      <th>Stocks_name</th>\n",
              "      <th>Counts</th>\n",
              "      <th>OptimalPrices</th>\n",
              "      <th>OptimalInvestments</th>\n",
              "    </tr>\n",
              "  </thead>\n",
              "  <tbody>\n",
              "    <tr>\n",
              "      <th>0</th>\n",
              "      <td>DBC</td>\n",
              "      <td>1.0</td>\n",
              "      <td>15.61</td>\n",
              "      <td>15.61</td>\n",
              "    </tr>\n",
              "    <tr>\n",
              "      <th>1</th>\n",
              "      <td>EWT</td>\n",
              "      <td>7.0</td>\n",
              "      <td>30.90</td>\n",
              "      <td>216.30</td>\n",
              "    </tr>\n",
              "    <tr>\n",
              "      <th>2</th>\n",
              "      <td>GDX</td>\n",
              "      <td>3.0</td>\n",
              "      <td>21.20</td>\n",
              "      <td>63.60</td>\n",
              "    </tr>\n",
              "    <tr>\n",
              "      <th>3</th>\n",
              "      <td>KBE</td>\n",
              "      <td>1.0</td>\n",
              "      <td>42.76</td>\n",
              "      <td>42.76</td>\n",
              "    </tr>\n",
              "    <tr>\n",
              "      <th>4</th>\n",
              "      <td>SH</td>\n",
              "      <td>4.0</td>\n",
              "      <td>37.10</td>\n",
              "      <td>148.40</td>\n",
              "    </tr>\n",
              "    <tr>\n",
              "      <th>5</th>\n",
              "      <td>XLE</td>\n",
              "      <td>25.0</td>\n",
              "      <td>75.35</td>\n",
              "      <td>1883.75</td>\n",
              "    </tr>\n",
              "    <tr>\n",
              "      <th>6</th>\n",
              "      <td>XLK</td>\n",
              "      <td>19.0</td>\n",
              "      <td>47.28</td>\n",
              "      <td>898.32</td>\n",
              "    </tr>\n",
              "    <tr>\n",
              "      <th>7</th>\n",
              "      <td>XME</td>\n",
              "      <td>22.0</td>\n",
              "      <td>33.18</td>\n",
              "      <td>729.96</td>\n",
              "    </tr>\n",
              "  </tbody>\n",
              "</table>\n",
              "</div>"
            ],
            "text/plain": [
              "  Stocks_name  Counts  OptimalPrices  OptimalInvestments\n",
              "0         DBC     1.0          15.61               15.61\n",
              "1         EWT     7.0          30.90              216.30\n",
              "2         GDX     3.0          21.20               63.60\n",
              "3         KBE     1.0          42.76               42.76\n",
              "4          SH     4.0          37.10              148.40\n",
              "5         XLE    25.0          75.35             1883.75\n",
              "6         XLK    19.0          47.28              898.32\n",
              "7         XME    22.0          33.18              729.96"
            ]
          },
          "metadata": {
            "tags": []
          },
          "execution_count": 18
        }
      ]
    },
    {
      "cell_type": "markdown",
      "metadata": {
        "id": "nEde7-kpUGB_"
      },
      "source": [
        "- XLE (energy sector), XLK (technology sector) and XME (metal & mining) are dominating the portfolio with > 80% of total investments. \r\n",
        "\r\n",
        "- expected return is based on past prices which is not a reasonable indicator of future performance."
      ]
    }
  ]
}